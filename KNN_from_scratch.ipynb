{
 "cells": [
  {
   "cell_type": "code",
   "execution_count": 12,
   "metadata": {},
   "outputs": [],
   "source": [
    "#importing required libraries.\n",
    "import pandas as pd\n",
    "import numpy as np\n",
    "import matplotlib.pyplot as plt\n"
   ]
  },
  {
   "cell_type": "code",
   "execution_count": 1,
   "metadata": {},
   "outputs": [
    {
     "data": {
      "application/javascript": [
       "\n",
       "        if (window._pyforest_update_imports_cell) { window._pyforest_update_imports_cell('import pandas as pd'); }\n",
       "    "
      ],
      "text/plain": [
       "<IPython.core.display.Javascript object>"
      ]
     },
     "metadata": {},
     "output_type": "display_data"
    },
    {
     "data": {
      "text/html": [
       "<div>\n",
       "<style scoped>\n",
       "    .dataframe tbody tr th:only-of-type {\n",
       "        vertical-align: middle;\n",
       "    }\n",
       "\n",
       "    .dataframe tbody tr th {\n",
       "        vertical-align: top;\n",
       "    }\n",
       "\n",
       "    .dataframe thead th {\n",
       "        text-align: right;\n",
       "    }\n",
       "</style>\n",
       "<table border=\"1\" class=\"dataframe\">\n",
       "  <thead>\n",
       "    <tr style=\"text-align: right;\">\n",
       "      <th></th>\n",
       "      <th>sepal_length</th>\n",
       "      <th>sepal_width</th>\n",
       "      <th>petal_length</th>\n",
       "      <th>petal_width</th>\n",
       "      <th>Class</th>\n",
       "    </tr>\n",
       "  </thead>\n",
       "  <tbody>\n",
       "    <tr>\n",
       "      <th>0</th>\n",
       "      <td>5.1</td>\n",
       "      <td>3.5</td>\n",
       "      <td>1.4</td>\n",
       "      <td>0.2</td>\n",
       "      <td>Iris-setosa</td>\n",
       "    </tr>\n",
       "    <tr>\n",
       "      <th>1</th>\n",
       "      <td>4.9</td>\n",
       "      <td>3.0</td>\n",
       "      <td>1.4</td>\n",
       "      <td>0.2</td>\n",
       "      <td>Iris-setosa</td>\n",
       "    </tr>\n",
       "    <tr>\n",
       "      <th>2</th>\n",
       "      <td>4.7</td>\n",
       "      <td>3.2</td>\n",
       "      <td>1.3</td>\n",
       "      <td>0.2</td>\n",
       "      <td>Iris-setosa</td>\n",
       "    </tr>\n",
       "    <tr>\n",
       "      <th>3</th>\n",
       "      <td>4.6</td>\n",
       "      <td>3.1</td>\n",
       "      <td>1.5</td>\n",
       "      <td>0.2</td>\n",
       "      <td>Iris-setosa</td>\n",
       "    </tr>\n",
       "    <tr>\n",
       "      <th>4</th>\n",
       "      <td>5.0</td>\n",
       "      <td>3.6</td>\n",
       "      <td>1.4</td>\n",
       "      <td>0.2</td>\n",
       "      <td>Iris-setosa</td>\n",
       "    </tr>\n",
       "  </tbody>\n",
       "</table>\n",
       "</div>"
      ],
      "text/plain": [
       "   sepal_length  sepal_width  petal_length  petal_width        Class\n",
       "0           5.1          3.5           1.4          0.2  Iris-setosa\n",
       "1           4.9          3.0           1.4          0.2  Iris-setosa\n",
       "2           4.7          3.2           1.3          0.2  Iris-setosa\n",
       "3           4.6          3.1           1.5          0.2  Iris-setosa\n",
       "4           5.0          3.6           1.4          0.2  Iris-setosa"
      ]
     },
     "execution_count": 1,
     "metadata": {},
     "output_type": "execute_result"
    }
   ],
   "source": [
    "#Loading iris dataset and naming the columns as below.\n",
    "\n",
    "df_iris=pd.read_csv('iris.csv.data',names=['sepal_length','sepal_width','petal_length','petal_width','Class'])\n",
    "df_iris.head()"
   ]
  },
  {
   "cell_type": "code",
   "execution_count": 28,
   "metadata": {},
   "outputs": [
    {
     "name": "stdout",
     "output_type": "stream",
     "text": [
      "The initial size of the iris dataset is 150\n",
      "The size of the training data is : 90\n",
      "The size of the development data is : 30\n",
      "The size of the test data is : 30\n"
     ]
    }
   ],
   "source": [
    "#splitting the data into development and test data Randomly.\n",
    "\n",
    "dev_data=df_iris.sample(frac=0.8) #splitting the data into 80 % dev_data\n",
    "test_data=df_iris.drop(dev_data.index) # splitting data into 20% test data.\n",
    "train_dev_data=dev_data.sample(frac=0.75)# splitting the dev_data into 75% train data.\n",
    "actual_dev_data=dev_data.drop(train_dev_data.index)# splitting the dev_data data into 25% actual development data.\n",
    "\n",
    "#Taking the first four coulmns of the dataframe as x_data\n",
    "x_train_dev_data=train_dev_data.to_numpy()[:,:4] \n",
    "x_actual_dev_data=actual_dev_data.to_numpy()[:,:4]\n",
    "\n",
    "#Taking the class column into y_data which is used for development data to determine k\n",
    "y_train_dev_data=train_dev_data.to_numpy()[:,4]\n",
    "y_actual_dev_data=actual_dev_data.to_numpy()[:,4]\n",
    "\n",
    "x_test=test_data.to_numpy()[:,:4]\n",
    "y_test=test_data.to_numpy()[:,4]\n",
    "\n",
    "#Converting the dataframe into numpy array.\n",
    "dev_data=dev_data.to_numpy()\n",
    "test_data=test_data.to_numpy()\n",
    "train_dev_data=train_dev_data.to_numpy()\n",
    "actual_dev_data=actual_dev_data.to_numpy()\n",
    "\n",
    "#printing the sizes of the training data, development data and the test data after split.\n",
    "print('The initial size of the iris dataset is {}'.format(df_iris.shape[0]))\n",
    "print('The size of the training data is : {}'.format(train_dev_data.shape[0]))\n",
    "print('The size of the development data is : {}'.format(actual_dev_data.shape[0]))\n",
    "print('The size of the test data is : {}'.format(test_data.shape[0]))\n"
   ]
  },
  {
   "cell_type": "code",
   "execution_count": 29,
   "metadata": {},
   "outputs": [
    {
     "name": "stdout",
     "output_type": "stream",
     "text": [
      " The x development data is: \n",
      "[[6.2 2.9 4.3 1.3]\n",
      " [7.6 3.0 6.6 2.1]\n",
      " [4.3 3.0 1.1 0.1]\n",
      " [5.7 2.8 4.5 1.3]\n",
      " [6.9 3.1 4.9 1.5]]\n",
      "----------------------------------------------------------------------------------------------------\n",
      "The Y development data is: \n",
      "['Iris-versicolor' 'Iris-virginica' 'Iris-setosa' 'Iris-versicolor'\n",
      " 'Iris-versicolor']\n"
     ]
    }
   ],
   "source": [
    "#printing x development data and y development data\n",
    "print(' The x development data is: \\n{}'.format(x_dev[:5,:]))\n",
    "print('--'*50)\n",
    "print('The Y development data is: \\n{}'.format(y_dev[:5]))"
   ]
  },
  {
   "cell_type": "code",
   "execution_count": 34,
   "metadata": {},
   "outputs": [],
   "source": [
    "#Defining Eculidean distance and calculating it.\n",
    "def euclidean_distance(row1,row2):\n",
    "    e_dist=0.0\n",
    "    for i in range(len(row1)-1):\n",
    "#         print(row1)\n",
    "#         print(row2)\n",
    "        e_dist=e_dist+((row1[i]-row2[i])**2)\n",
    "    \n",
    "    return np.sqrt(e_dist)\n",
    "        \n",
    "#Defining the normalized euclidean distances.\n",
    "def normalized_euclidean_distance(row1,row2):\n",
    "    row1=row1[:4]\n",
    "    row2=row2[:4]\n",
    "    mean_r1=sum(row1)/(len(row1)-1)\n",
    "    mean_r2=sum(row2)/(len(row2)-1)\n",
    "    std_r1=np.std(row1)\n",
    "    std_r2=np.std(row2)\n",
    "    neuc_dist=0.0\n",
    "    for i in range(len(row1)):\n",
    "        neuc_dist=neuc_dist+((row1[i]-mean_r1/std_r1)-(row2[i]-mean_r2/std_r2))**2\n",
    "    return np.sqrt(neuc_dist)\n",
    "\n",
    "#Defining the cosine similarity metrics for KNN.\n",
    "def cosine_similarity(row1,row2):\n",
    "    row1=row1[:4]\n",
    "    row2=row2[:4]\n",
    "    mag_r1=np.sqrt(sum([i**2 for i in row1]))\n",
    "    mag_r2=np.sqrt(sum([i**2 for i in row2]))\n",
    "    dot_product=row1.dot(row2)\n",
    "    return (1-(dot_product/(mag_r1*mag_r2)))"
   ]
  },
  {
   "cell_type": "code",
   "execution_count": 88,
   "metadata": {},
   "outputs": [],
   "source": [
    "#Function Ccalculating accuracy of Predictions.\n",
    "def accuracy_percentange(y_actual_dev_data,predicted):\n",
    "    n_correct=0\n",
    "    for i in range(len(y_actual_dev_data)):\n",
    "        #print(y_dev[i],predicted[i])\n",
    "        if y_actual_dev_data[i]==predicted[i]:\n",
    "            n_correct=n_correct+1\n",
    "    #print(n_correct)\n",
    "    return float((n_correct*100/len(y_actual_dev_data)))"
   ]
  },
  {
   "cell_type": "code",
   "execution_count": 64,
   "metadata": {},
   "outputs": [],
   "source": [
    "# Now predicting the value of the development data using different distance metrics.\n",
    "\n",
    "# prediction using the euclidean distance.\n",
    "def nearest_neighbour_euclidean(train_dev_data,x_actual_dev_data_row,k):\n",
    "    distances=[]\n",
    "    class_list=[]\n",
    "    for train_dev_data_row in train_dev_data: #for each training-data calculate the distance of the development data row \n",
    "        dist=euclidean_distance(train_dev_data_row,x_actual_dev_data_row)\n",
    "        distances.append((train_dev_data_row,dist))\n",
    "    distances.sort(key = lambda x: x[1])\n",
    "    nearest_neighbours=[]\n",
    "    \n",
    "    for i in range(k): #Taking the k nearest neighbours of the dev_data_row.\n",
    "        nearest_neighbours.append(distances[i][0])\n",
    "    \n",
    "    for neighbour in nearest_neighbours:\n",
    "        class_list.append(neighbour[-1])\n",
    "    \n",
    "    prediction = max(set(class_list), key=class_list.count) #predicting the class labelby the majority vote from all the classes\n",
    "    return prediction\n",
    "\n",
    "def nearest_neighbour_normalized_euclidean(train_dev_data,x_actual_dev_data_row,k):\n",
    "    distances=[]\n",
    "    class_list=[]\n",
    "    for train_dev_data_row in train_dev_data:#for each training-data calculate the distance of the development data row\n",
    "        dist=normalized_euclidean_distance(train_dev_data_row,x_actual_dev_data_row)\n",
    "        distances.append((train_dev_data_row,dist))\n",
    "    distances.sort(key = lambda x: x[1])\n",
    "    nearest_neighbours=[]\n",
    "    \n",
    "    for i in range(k): #Taking the k nearest neighbours of the dev_data_row\n",
    "        nearest_neighbours.append(distances[i][0])\n",
    "    for neighbour in nearest_neighbours:\n",
    "        class_list.append(neighbour[-1])\n",
    "    \n",
    "    prediction = max(set(class_list), key=class_list.count) #predicting the class labelby the majority vote from all the classes\n",
    "    return prediction\n",
    "def nearest_neighbour_cosine_similarity(train_dev_data,x_actual_dev_data_row,k):\n",
    "    distances=[]\n",
    "    class_list=[]\n",
    "    for train_dev_data_row in train_dev_data:\n",
    "        dist=cosine_similarity(train_dev_data_row,x_actual_dev_data_row)\n",
    "        distances.append((train_dev_data_row,dist))\n",
    "    distances.sort(key = lambda x: x[1])\n",
    "    nearest_neighbours=[]\n",
    "    for i in range(k):  #Taking the k nearest neighbours of the dev_data_row\n",
    "        nearest_neighbours.append(distances[i][0])\n",
    "    #print(nearest_neighbours)\n",
    "    for neighbour in nearest_neighbours:\n",
    "        class_list.append(neighbour[-1])\n",
    "    \n",
    "    prediction = max(set(class_list), key=class_list.count) #predicting the class labelby the majority vote from all the classes\n",
    "    return prediction\n",
    "    "
   ]
  },
  {
   "cell_type": "markdown",
   "metadata": {},
   "source": [
    "## Determining the best K value and the metric based on the accuracy"
   ]
  },
  {
   "cell_type": "code",
   "execution_count": 90,
   "metadata": {},
   "outputs": [
    {
     "name": "stdout",
     "output_type": "stream",
     "text": [
      "The accuracy value for k=1 is 96.66666666666667 \n",
      "The accuracy value for k=3 is 100.0 \n",
      "The accuracy value for k=5 is 96.66666666666667 \n",
      "The accuracy value for k=7 is 100.0 \n"
     ]
    },
    {
     "data": {
      "image/png": "[encoded data removed]",
      "text/plain": [
       "<Figure size 432x288 with 1 Axes>"
      ]
     },
     "metadata": {
      "needs_background": "light"
     },
     "output_type": "display_data"
    }
   ],
   "source": [
    "#Accuracy for Euclidean distance model\n",
    "%matplotlib inline\n",
    "k=[1,3,5,7]\n",
    "accuracy_list=[]\n",
    "for each_k in k:\n",
    "    p=[]\n",
    "    for x_actual_dev_data_row in x_actual_dev_data:#for each row in development data we predict the class label using the train data\n",
    "        p.append(nearest_neighbour_euclidean(train_dev_data,x_actual_dev_data_row,each_k))#insering the predicted class in list p\n",
    "    accuracy=accuracy_percentange(y_actual_dev_data,p)#Calculting percentage of accuracy by comparing predicted vs actual\n",
    "    accuracy_list.append(accuracy)\n",
    "\n",
    "plt.bar(k,accuracy_list,width=0.5,)\n",
    "plt.xlabel('K values')\n",
    "plt.ylabel('Acuuracy')\n",
    "for i in range(len(k)):\n",
    "    print('The accuracy value for k={} is {} '.format(k[i],accuracy_list[i])) #printing the accuracy list for different k values.\n"
   ]
  },
  {
   "cell_type": "code",
   "execution_count": 96,
   "metadata": {},
   "outputs": [
    {
     "name": "stdout",
     "output_type": "stream",
     "text": [
      "The accuracy scores for different K values of normalized euclidean model\n",
      " \n",
      "------------------------------------------------------------------------------------------------------------------------\n",
      "The accuracy value for k=1 is 96.66666666666667 \n",
      "The accuracy value for k=3 is 93.33333333333333 \n",
      "The accuracy value for k=5 is 100.0 \n",
      "The accuracy value for k=7 is 93.33333333333333 \n"
     ]
    },
    {
     "data": {
      "image/png": "[encoded data removed]",
      "text/plain": [
       "<Figure size 432x288 with 1 Axes>"
      ]
     },
     "metadata": {
      "needs_background": "light"
     },
     "output_type": "display_data"
    }
   ],
   "source": [
    "#Accuracy for normalized euclidean model.\n",
    "k=[1,3,5,7]\n",
    "accuracy_list=[]\n",
    "for each_k in k:\n",
    "    p=[]\n",
    "    for x_actual_dev_data_row in x_actual_dev_data:\n",
    "        p.append(nearest_neighbour_normalized_euclidean(train_dev_data,x_actual_dev_data_row,each_k))\n",
    "    accuracy=accuracy_percentange(y_actual_dev_data,p)\n",
    "    accuracy_list.append(accuracy)\n",
    "\n",
    "plt.bar(k,accuracy_list,width=0.5)\n",
    "plt.xlabel('K values')\n",
    "plt.ylabel('Acuuracy')\n",
    "print('The accuracy scores for different K values of normalized euclidean model\\n ')\n",
    "print('--'*60)\n",
    "for i in range(len(k)):\n",
    "    print('The accuracy value for k={} is {} '.format(k[i],accuracy_list[i])) #printing the accuracy list for different k values."
   ]
  },
  {
   "cell_type": "code",
   "execution_count": 97,
   "metadata": {},
   "outputs": [
    {
     "name": "stdout",
     "output_type": "stream",
     "text": [
      "The accuracy scores for different K values of Cosine Similarity model\n",
      " \n",
      "------------------------------------------------------------------------------------------------------------------------\n",
      "The accuracy value for k=1 is 96.66666666666667 \n",
      "The accuracy value for k=3 is 96.66666666666667 \n",
      "The accuracy value for k=5 is 100.0 \n",
      "The accuracy value for k=7 is 96.66666666666667 \n"
     ]
    },
    {
     "data": {
      "image/png": "[encoded data removed]",
      "text/plain": [
       "<Figure size 432x288 with 1 Axes>"
      ]
     },
     "metadata": {
      "needs_background": "light"
     },
     "output_type": "display_data"
    }
   ],
   "source": [
    "#Accuracy for Cosine similarity model.\n",
    "k=[1,3,5,7]\n",
    "accuracy_list=[]\n",
    "for each_k in k:\n",
    "    p=[]\n",
    "    for x_actual_dev_data_row in x_actual_dev_data:\n",
    "        p.append(nearest_neighbour_cosine_similarity(train_dev_data,x_actual_dev_data_row,each_k))\n",
    "    accuracy=accuracy_percentange(y_actual_dev_data,p)\n",
    "    accuracy_list.append(accuracy)\n",
    "\n",
    "plt.bar(k,accuracy_list,width=0.5)\n",
    "plt.xlabel('K values')\n",
    "plt.ylabel('Acuuracy')\n",
    "print('The accuracy scores for different K values of Cosine Similarity model\\n ')\n",
    "print('--'*60)\n",
    "for i in range(len(k)):\n",
    "    print('The accuracy value for k={} is {} '.format(k[i],accuracy_list[i])) #printing the accuracy list for different k values.\n"
   ]
  },
  {
   "cell_type": "markdown",
   "metadata": {},
   "source": [
    "<h3> Based on above performance of the model we could see that the cosine similarity model when k=5 is performing better and cosine metric is better when dimesionality is high </h3>"
   ]
  },
  {
   "cell_type": "code",
   "execution_count": 100,
   "metadata": {
    "scrolled": true
   },
   "outputs": [
    {
     "name": "stdout",
     "output_type": "stream",
     "text": [
      "The accuracy of the test data for cosine similarity when k=5 is 93.33333333333333\n"
     ]
    }
   ],
   "source": [
    "#calculating accuracy of the best model on the test data.\n",
    "accuracy_list=[]\n",
    "p=[]\n",
    "for x_test_row in x_test:\n",
    "    p.append(nearest_neighbour_cosine_similarity(train_dev_data,x_test_row,5))# for k=5 applying cosine similarity.\n",
    "accuracy=accuracy_percentange(y_test,p)\n",
    "accuracy_list.append(accuracy)\n",
    "\n",
    "\n",
    "print('The accuracy of the test data for cosine similarity when k=5 is {}'.format(accuracy_list[0]))"
   ]
  },
  {
   "cell_type": "markdown",
   "metadata": {},
   "source": [
    "<h3>References</h3>\n"
   ]
  },
  {
   "cell_type": "markdown",
   "metadata": {},
   "source": [
    "Code Overview:<a href=\"https://machinelearningmastery.com/tutorial-to-implement-k-nearest-neighbors-in-python-from-scratch/\" target=\"_blank\">https://machinelearningmastery.com/tutorial-to-implement-k-nearest-neighbors-in-python-from-scratch/</a>.\n",
    "\n"
   ]
  },
  {
   "cell_type": "markdown",
   "metadata": {},
   "source": [
    "Sorting tuples:<a href=\"https://www.geeksforgeeks.org/python-program-to-sort-a-list-of-tuples-by-second-item/\" target=\"_blank\">https://www.geeksforgeeks.org/python-program-to-sort-a-list-of-tuples-by-second-item/</a>."
   ]
  },
  {
   "cell_type": "markdown",
   "metadata": {},
   "source": [
    "Splitting Data Randomly:<a href=\"https://www.geeksforgeeks.org/divide-a-pandas-dataframe-randomly-in-a-given-ratio/\" target=\"_blank\">https://www.geeksforgeeks.org/divide-a-pandas-dataframe-randomly-in-a-given-ratio/</a>."
   ]
  },
  {
   "cell_type": "markdown",
   "metadata": {},
   "source": [
    "Normalized Euclidean distance:<a href=\"https://stackoverflow.com/questions/38161071/how-to-calculate-normalized-euclidean-distance-on-two-vectors/54170399\" target=\"_blank\">https://stackoverflow.com/questions/38161071/how-to-calculate-normalized-euclidean-distance-on-two-vectors/54170399</a>."
   ]
  },
  {
   "cell_type": "markdown",
   "metadata": {},
   "source": [
    "\n",
    "[Code Overview:](https://machinelearningmastery.com/tutorial-to-implement-k-nearest-neighbors-in-python-from-scratch) "
   ]
  }
 ],
 "metadata": {
  "kernelspec": {
   "display_name": "Python 3",
   "language": "python",
   "name": "python3"
  },
  "language_info": {
   "codemirror_mode": {
    "name": "ipython",
    "version": 3
   },
   "file_extension": ".py",
   "mimetype": "text/x-python",
   "name": "python",
   "nbconvert_exporter": "python",
   "pygments_lexer": "ipython3",
   "version": "3.8.3"
  }
 },
 "nbformat": 4,
 "nbformat_minor": 4
}
